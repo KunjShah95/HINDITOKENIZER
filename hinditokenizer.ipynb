{
  "nbformat": 4,
  "nbformat_minor": 0,
  "metadata": {
    "colab": {
      "provenance": [],
      "authorship_tag": "ABX9TyM7i2CnJaW8Fu1n952g30TS",
      "include_colab_link": true
    },
    "kernelspec": {
      "name": "python3",
      "display_name": "Python 3"
    },
    "language_info": {
      "name": "python"
    }
  },
  "cells": [
    {
      "cell_type": "markdown",
      "metadata": {
        "id": "view-in-github",
        "colab_type": "text"
      },
      "source": [
        "<a href=\"https://colab.research.google.com/github/KunjShah95/HINDITOKENIZER/blob/main/hinditokenizer.ipynb\" target=\"_parent\"><img src=\"https://colab.research.google.com/assets/colab-badge.svg\" alt=\"Open In Colab\"/></a>"
      ]
    },
    {
      "cell_type": "code",
      "execution_count": 1,
      "metadata": {
        "colab": {
          "base_uri": "https://localhost:8080/"
        },
        "id": "HcS-lR6kr_Ls",
        "outputId": "a2bc9f98-18c7-4603-fad3-5dab2b9076b3"
      },
      "outputs": [
        {
          "output_type": "stream",
          "name": "stdout",
          "text": [
            "Requirement already satisfied: sentencepiece in /usr/local/lib/python3.11/dist-packages (0.2.0)\n",
            "Collecting indic-nlp-library\n",
            "  Downloading indic_nlp_library-0.92-py3-none-any.whl.metadata (5.7 kB)\n",
            "Collecting sphinx-argparse (from indic-nlp-library)\n",
            "  Downloading sphinx_argparse-0.5.2-py3-none-any.whl.metadata (3.7 kB)\n",
            "Collecting sphinx-rtd-theme (from indic-nlp-library)\n",
            "  Downloading sphinx_rtd_theme-3.0.2-py2.py3-none-any.whl.metadata (4.4 kB)\n",
            "Collecting morfessor (from indic-nlp-library)\n",
            "  Downloading Morfessor-2.0.6-py3-none-any.whl.metadata (628 bytes)\n",
            "Requirement already satisfied: pandas in /usr/local/lib/python3.11/dist-packages (from indic-nlp-library) (2.2.2)\n",
            "Requirement already satisfied: numpy in /usr/local/lib/python3.11/dist-packages (from indic-nlp-library) (1.26.4)\n",
            "Requirement already satisfied: python-dateutil>=2.8.2 in /usr/local/lib/python3.11/dist-packages (from pandas->indic-nlp-library) (2.8.2)\n",
            "Requirement already satisfied: pytz>=2020.1 in /usr/local/lib/python3.11/dist-packages (from pandas->indic-nlp-library) (2025.1)\n",
            "Requirement already satisfied: tzdata>=2022.7 in /usr/local/lib/python3.11/dist-packages (from pandas->indic-nlp-library) (2025.1)\n",
            "Requirement already satisfied: sphinx>=5.1.0 in /usr/local/lib/python3.11/dist-packages (from sphinx-argparse->indic-nlp-library) (8.1.3)\n",
            "Requirement already satisfied: docutils>=0.19 in /usr/local/lib/python3.11/dist-packages (from sphinx-argparse->indic-nlp-library) (0.21.2)\n",
            "Collecting sphinxcontrib-jquery<5,>=4 (from sphinx-rtd-theme->indic-nlp-library)\n",
            "  Downloading sphinxcontrib_jquery-4.1-py2.py3-none-any.whl.metadata (2.6 kB)\n",
            "Requirement already satisfied: six>=1.5 in /usr/local/lib/python3.11/dist-packages (from python-dateutil>=2.8.2->pandas->indic-nlp-library) (1.17.0)\n",
            "Requirement already satisfied: sphinxcontrib-applehelp>=1.0.7 in /usr/local/lib/python3.11/dist-packages (from sphinx>=5.1.0->sphinx-argparse->indic-nlp-library) (2.0.0)\n",
            "Requirement already satisfied: sphinxcontrib-devhelp>=1.0.6 in /usr/local/lib/python3.11/dist-packages (from sphinx>=5.1.0->sphinx-argparse->indic-nlp-library) (2.0.0)\n",
            "Requirement already satisfied: sphinxcontrib-htmlhelp>=2.0.6 in /usr/local/lib/python3.11/dist-packages (from sphinx>=5.1.0->sphinx-argparse->indic-nlp-library) (2.1.0)\n",
            "Requirement already satisfied: sphinxcontrib-jsmath>=1.0.1 in /usr/local/lib/python3.11/dist-packages (from sphinx>=5.1.0->sphinx-argparse->indic-nlp-library) (1.0.1)\n",
            "Requirement already satisfied: sphinxcontrib-qthelp>=1.0.6 in /usr/local/lib/python3.11/dist-packages (from sphinx>=5.1.0->sphinx-argparse->indic-nlp-library) (2.0.0)\n",
            "Requirement already satisfied: sphinxcontrib-serializinghtml>=1.1.9 in /usr/local/lib/python3.11/dist-packages (from sphinx>=5.1.0->sphinx-argparse->indic-nlp-library) (2.0.0)\n",
            "Requirement already satisfied: Jinja2>=3.1 in /usr/local/lib/python3.11/dist-packages (from sphinx>=5.1.0->sphinx-argparse->indic-nlp-library) (3.1.5)\n",
            "Requirement already satisfied: Pygments>=2.17 in /usr/local/lib/python3.11/dist-packages (from sphinx>=5.1.0->sphinx-argparse->indic-nlp-library) (2.18.0)\n",
            "Requirement already satisfied: snowballstemmer>=2.2 in /usr/local/lib/python3.11/dist-packages (from sphinx>=5.1.0->sphinx-argparse->indic-nlp-library) (2.2.0)\n",
            "Requirement already satisfied: babel>=2.13 in /usr/local/lib/python3.11/dist-packages (from sphinx>=5.1.0->sphinx-argparse->indic-nlp-library) (2.17.0)\n",
            "Requirement already satisfied: alabaster>=0.7.14 in /usr/local/lib/python3.11/dist-packages (from sphinx>=5.1.0->sphinx-argparse->indic-nlp-library) (1.0.0)\n",
            "Requirement already satisfied: imagesize>=1.3 in /usr/local/lib/python3.11/dist-packages (from sphinx>=5.1.0->sphinx-argparse->indic-nlp-library) (1.4.1)\n",
            "Requirement already satisfied: requests>=2.30.0 in /usr/local/lib/python3.11/dist-packages (from sphinx>=5.1.0->sphinx-argparse->indic-nlp-library) (2.32.3)\n",
            "Requirement already satisfied: packaging>=23.0 in /usr/local/lib/python3.11/dist-packages (from sphinx>=5.1.0->sphinx-argparse->indic-nlp-library) (24.2)\n",
            "Requirement already satisfied: MarkupSafe>=2.0 in /usr/local/lib/python3.11/dist-packages (from Jinja2>=3.1->sphinx>=5.1.0->sphinx-argparse->indic-nlp-library) (3.0.2)\n",
            "Requirement already satisfied: charset-normalizer<4,>=2 in /usr/local/lib/python3.11/dist-packages (from requests>=2.30.0->sphinx>=5.1.0->sphinx-argparse->indic-nlp-library) (3.4.1)\n",
            "Requirement already satisfied: idna<4,>=2.5 in /usr/local/lib/python3.11/dist-packages (from requests>=2.30.0->sphinx>=5.1.0->sphinx-argparse->indic-nlp-library) (3.10)\n",
            "Requirement already satisfied: urllib3<3,>=1.21.1 in /usr/local/lib/python3.11/dist-packages (from requests>=2.30.0->sphinx>=5.1.0->sphinx-argparse->indic-nlp-library) (2.3.0)\n",
            "Requirement already satisfied: certifi>=2017.4.17 in /usr/local/lib/python3.11/dist-packages (from requests>=2.30.0->sphinx>=5.1.0->sphinx-argparse->indic-nlp-library) (2025.1.31)\n",
            "Downloading indic_nlp_library-0.92-py3-none-any.whl (40 kB)\n",
            "\u001b[2K   \u001b[90m━━━━━━━━━━━━━━━━━━━━━━━━━━━━━━━━━━━━━━━━\u001b[0m \u001b[32m40.3/40.3 kB\u001b[0m \u001b[31m1.1 MB/s\u001b[0m eta \u001b[36m0:00:00\u001b[0m\n",
            "\u001b[?25hDownloading Morfessor-2.0.6-py3-none-any.whl (35 kB)\n",
            "Downloading sphinx_argparse-0.5.2-py3-none-any.whl (12 kB)\n",
            "Downloading sphinx_rtd_theme-3.0.2-py2.py3-none-any.whl (7.7 MB)\n",
            "\u001b[2K   \u001b[90m━━━━━━━━━━━━━━━━━━━━━━━━━━━━━━━━━━━━━━━━\u001b[0m \u001b[32m7.7/7.7 MB\u001b[0m \u001b[31m34.5 MB/s\u001b[0m eta \u001b[36m0:00:00\u001b[0m\n",
            "\u001b[?25hDownloading sphinxcontrib_jquery-4.1-py2.py3-none-any.whl (121 kB)\n",
            "\u001b[2K   \u001b[90m━━━━━━━━━━━━━━━━━━━━━━━━━━━━━━━━━━━━━━━━\u001b[0m \u001b[32m121.1/121.1 kB\u001b[0m \u001b[31m6.4 MB/s\u001b[0m eta \u001b[36m0:00:00\u001b[0m\n",
            "\u001b[?25hInstalling collected packages: morfessor, sphinxcontrib-jquery, sphinx-argparse, sphinx-rtd-theme, indic-nlp-library\n",
            "Successfully installed indic-nlp-library-0.92 morfessor-2.0.6 sphinx-argparse-0.5.2 sphinx-rtd-theme-3.0.2 sphinxcontrib-jquery-4.1\n"
          ]
        }
      ],
      "source": [
        "!pip install sentencepiece indic-nlp-library"
      ]
    },
    {
      "cell_type": "code",
      "source": [
        "import re\n",
        "import sentencepiece as spm\n",
        "from indicnlp.tokenize import indic_tokenize\n",
        "\n",
        "class HindiTokenizer:\n",
        "    def __init__(self, sp_model_path=None):\n",
        "        \"\"\"\n",
        "        Initialize tokenizer with optional SentencePiece model\n",
        "        \"\"\"\n",
        "        self.sp_model = None\n",
        "        if sp_model_path:\n",
        "            self.sp_model = spm.SentencePieceProcessor()\n",
        "            self.sp_model.load(sp_model_path)\n",
        "\n",
        "    def regex_tokenizer(self, text):\n",
        "        \"\"\"\n",
        "        Basic regex-based word tokenizer\n",
        "        Handles common Hindi punctuation and symbols\n",
        "        \"\"\"\n",
        "        pattern = r\"\"\"\n",
        "            \\s+                      # Split on spaces\n",
        "            | [।,!?;॰ः़]              # Hindi punctuation\n",
        "            | \\d+                     # Numbers\n",
        "            | [^\\s।,!?;॰ः़\\d]+       # Words and other characters\n",
        "        \"\"\"\n",
        "        tokens = re.findall(pattern, text, flags=re.X)\n",
        "        return [token.strip() for token in tokens if token.strip()]\n",
        "\n",
        "    def indic_nlp_tokenizer(self, text):\n",
        "        \"\"\"\n",
        "        Using Indic NLP Library for more sophisticated tokenization\n",
        "        Requires: pip install indic-nlp-library\n",
        "        \"\"\"\n",
        "        return indic_tokenize.trivial_tokenize(text, lang='hi')\n",
        "\n",
        "    def sentencepiece_tokenizer(self, text):\n",
        "        \"\"\"\n",
        "        Subword tokenization using pre-trained SentencePiece model\n",
        "        \"\"\"\n",
        "        if not self.sp_model:\n",
        "            raise ValueError(\"SentencePiece model not loaded!\")\n",
        "        return self.sp_model.encode_as_pieces(text)\n",
        "\n",
        "    @staticmethod\n",
        "    def train_sentencepiece_model(corpus_path, model_prefix='hindi_sp', vocab_size=8000):\n",
        "        \"\"\"\n",
        "        Train a SentencePiece model from a corpus\n",
        "        \"\"\"\n",
        "        spm.SentencePieceTrainer.train(\n",
        "            input=corpus_path,\n",
        "            model_prefix=model_prefix,\n",
        "            vocab_size=vocab_size,\n",
        "            character_coverage=0.9995,\n",
        "            model_type='unigram',\n",
        "            user_defined_symbols=['।', 'ः', '॰']  # Hindi-specific symbols\n",
        "        )\n",
        "\n",
        "if __name__ == \"__main__\":\n",
        "    # Example usage\n",
        "    sample_text = \"हिन्दी भाषा विश्व की प्राचीनतम भाषाओं में से एक है। इसकी लिपि देवनागरी है।\"\n",
        "\n",
        "    # Initialize tokenizer with SentencePiece model (if available)\n",
        "    tokenizer = HindiTokenizer()  # Without SentencePiece\n",
        "    # tokenizer = HindiTokenizer('hindi_sp.model')  # With SentencePiece\n",
        "\n",
        "    print(\"Regex Tokenizer:\")\n",
        "    print(tokenizer.regex_tokenizer(sample_text))\n",
        "\n",
        "    print(\"\\nIndic NLP Tokenizer:\")\n",
        "    try:\n",
        "        print(tokenizer.indic_nlp_tokenizer(sample_text))\n",
        "    except ImportError:\n",
        "        print(\"Install indic-nlp-library first: pip install indic-nlp-library\")\n",
        "\n",
        "    # To use SentencePiece:\n",
        "    # 1. First train a model using:\n",
        "    # HindiTokenizer.train_sentencepiece_model('hindi_corpus.txt')\n",
        "    # 2. Then load the model and use\n",
        "\n",
        "    # Sample SentencePiece output (if model available):\n",
        "    # print(\"\\nSentencePiece Tokenizer:\")\n",
        "    # print(tokenizer.sentencepiece_tokenizer(sample_text))"
      ],
      "metadata": {
        "colab": {
          "base_uri": "https://localhost:8080/"
        },
        "id": "ump98Ga_sIMh",
        "outputId": "97daa78b-4643-4d85-fd4a-0b4ede9f5aad"
      },
      "execution_count": 2,
      "outputs": [
        {
          "output_type": "stream",
          "name": "stdout",
          "text": [
            "Regex Tokenizer:\n",
            "['हिन्दी', 'भाषा', 'विश्व', 'की', 'प्राचीनतम', 'भाषाओं', 'में', 'से', 'एक', 'है', '।', 'इसकी', 'लिपि', 'देवनागरी', 'है', '।']\n",
            "\n",
            "Indic NLP Tokenizer:\n",
            "['हिन्दी', 'भाषा', 'विश्व', 'की', 'प्राचीनतम', 'भाषाओं', 'में', 'से', 'एक', 'है', '।', 'इसकी', 'लिपि', 'देवनागरी', 'है', '।']\n"
          ]
        }
      ]
    },
    {
      "cell_type": "code",
      "source": [],
      "metadata": {
        "id": "5haCkN50sMV0"
      },
      "execution_count": null,
      "outputs": []
    }
  ]
}